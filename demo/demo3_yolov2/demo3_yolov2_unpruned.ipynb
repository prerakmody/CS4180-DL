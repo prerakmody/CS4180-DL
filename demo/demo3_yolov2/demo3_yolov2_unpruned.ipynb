{
 "cells": [
  {
   "cell_type": "markdown",
   "metadata": {
    "heading_collapsed": true
   },
   "source": [
    "# Start"
   ]
  },
  {
   "cell_type": "code",
   "execution_count": 2,
   "metadata": {
    "ExecuteTime": {
     "end_time": "2019-05-22T20:34:17.547771Z",
     "start_time": "2019-05-22T20:34:16.344732Z"
    },
    "collapsed": false,
    "hidden": true
   },
   "outputs": [
    {
     "name": "stdout",
     "output_type": "stream",
     "text": [
      " - In Path :  /home/strider/Work/Netherlands/TUDelft/1_Courses/Sem2/DeepLearning/Project/repo1\n",
      " - USE_GPU :  True\n"
     ]
    }
   ],
   "source": [
    "import os\n",
    "import sys\n",
    "%load_ext autoreload\n",
    "%autoreload 2\n",
    "\n",
    "import torch\n",
    "\n",
    "dir_main = os.path.abspath('../../../repo1/')\n",
    "sys.path.append(dir_main)\n",
    "print (' - In Path : ', sys.path[-1])\n",
    "\n",
    "USE_GPU = torch.cuda.is_available()\n",
    "print (' - USE_GPU : ', USE_GPU)"
   ]
  },
  {
   "cell_type": "markdown",
   "metadata": {
    "heading_collapsed": true
   },
   "source": [
    "# Model - Load"
   ]
  },
  {
   "cell_type": "code",
   "execution_count": 2,
   "metadata": {
    "ExecuteTime": {
     "end_time": "2019-05-22T20:06:57.984149Z",
     "start_time": "2019-05-22T20:06:57.770713Z"
    },
    "collapsed": false,
    "hidden": true
   },
   "outputs": [],
   "source": [
    "from src.nets import *\n",
    "\n",
    "if (1):\n",
    "    cfgfile    = os.path.join(dir_main, 'data/cfg/github_pjreddie/yolov2-voc.cfg')\n",
    "    weightfile = os.path.join(dir_main, 'data/weights/github_pjreddie/yolov2-voc.weights')\n",
    "    # wget https://pjreddie.com/media/files/yolov2-voc.weights\n",
    "    # model = getYOLOv2(cfgfile, weightfile)"
   ]
  },
  {
   "cell_type": "markdown",
   "metadata": {
    "heading_collapsed": true
   },
   "source": [
    "# Model - Eval (mAP)"
   ]
  },
  {
   "cell_type": "code",
   "execution_count": 15,
   "metadata": {
    "ExecuteTime": {
     "end_time": "2019-05-22T20:46:17.644745Z",
     "start_time": "2019-05-22T20:46:12.980052Z"
    },
    "collapsed": false,
    "hidden": true
   },
   "outputs": [
    {
     "name": "stdout",
     "output_type": "stream",
     "text": [
      " - Reading predictions from :  /home/strider/Work/Netherlands/TUDelft/1_Courses/Sem2/DeepLearning/Project/repo1/demo/demo3_yolov2/eval_data ( comp4_det_test_ )\n",
      " - VOC07 metric? Yes\n",
      "\n",
      "~~~~~~~~\n",
      "          class       mAP\n",
      "0     aeroplane  0.776270\n",
      "1       bicycle  0.798833\n",
      "2          bird  0.753812\n",
      "3          boat  0.653453\n",
      "4        bottle  0.494928\n",
      "5           bus  0.816337\n",
      "6           car  0.829606\n",
      "7           cat  0.882470\n",
      "8         chair  0.568349\n",
      "9           cow  0.804215\n",
      "10  diningtable  0.721661\n",
      "11          dog  0.854689\n",
      "12        horse  0.860699\n",
      "13    motorbike  0.806348\n",
      "14       person  0.759239\n",
      "15  pottedplant  0.521379\n",
      "16        sheep  0.773517\n",
      "17         sofa  0.733054\n",
      "18        train  0.858911\n",
      "19    tvmonitor  0.757254\n",
      "~~~~~~~~\n",
      "Mean AP = 0.7513\n"
     ]
    }
   ],
   "source": [
    "from src.predict import *\n",
    "\n",
    "DIR_PROJ         = '/home/strider/Work/Netherlands/TUDelft/1_Courses/Sem2/DeepLearning/Project/repo1'\n",
    "MODEL_CFGFILE    = os.path.join(DIR_PROJ, 'data/cfg/github_pjreddie/yolov2-voc.cfg')\n",
    "MODEL_WEIGHTFILE = os.path.join(DIR_PROJ, 'data/weights/github_pjreddie/yolov2-voc.weights')\n",
    "PASCAL_DIR       = os.path.join(DIR_PROJ, 'data/dataset/VOCdevkit/')\n",
    "EVAL_IMAGELIST   = os.path.join(DIR_PROJ, 'data/dataset/2007_test.txt')\n",
    "EVAL_OUTPUTDIR   = os.path.join(DIR_PROJ, 'demo/demo3_yolov2/eval_data')\n",
    "EVAL_PREFIX      = 'comp4_det_test_'#'pretrained_yolov2_'\n",
    "EVAL_OUTPUTDIR_PKL = os.path.join(DIR_PROJ, 'demo/demo3_yolov2/eval_results')\n",
    "\n",
    "valObj = PASCALVOCEval(MODEL_CFGFILE, MODEL_WEIGHTFILE, PASCAL_DIR, EVAL_IMAGELIST, EVAL_OUTPUTDIR, EVAL_PREFIX, EVAL_OUTPUTDIR_PKL)\n",
    "# valObj.predict()\n",
    "valObj._do_python_eval()"
   ]
  },
  {
   "cell_type": "code",
   "execution_count": null,
   "metadata": {
    "collapsed": true,
    "hidden": true
   },
   "outputs": [],
   "source": []
  },
  {
   "cell_type": "code",
   "execution_count": null,
   "metadata": {
    "collapsed": true,
    "hidden": true
   },
   "outputs": [],
   "source": []
  },
  {
   "cell_type": "markdown",
   "metadata": {},
   "source": [
    "# Tmp"
   ]
  },
  {
   "cell_type": "code",
   "execution_count": null,
   "metadata": {
    "ExecuteTime": {
     "end_time": "2019-05-22T20:40:36.315177Z",
     "start_time": "2019-05-22T20:40:36.258265Z"
    },
    "collapsed": false
   },
   "outputs": [],
   "source": []
  }
 ],
 "metadata": {
  "anaconda-cloud": {},
  "kernelspec": {
   "display_name": "Python [default]",
   "language": "python",
   "name": "python3"
  },
  "language_info": {
   "codemirror_mode": {
    "name": "ipython",
    "version": 3
   },
   "file_extension": ".py",
   "mimetype": "text/x-python",
   "name": "python",
   "nbconvert_exporter": "python",
   "pygments_lexer": "ipython3",
   "version": "3.5.5"
  },
  "varInspector": {
   "cols": {
    "lenName": 16,
    "lenType": 16,
    "lenVar": 40
   },
   "kernels_config": {
    "python": {
     "delete_cmd_postfix": "",
     "delete_cmd_prefix": "del ",
     "library": "var_list.py",
     "varRefreshCmd": "print(var_dic_list())"
    },
    "r": {
     "delete_cmd_postfix": ") ",
     "delete_cmd_prefix": "rm(",
     "library": "var_list.r",
     "varRefreshCmd": "cat(var_dic_list()) "
    }
   },
   "types_to_exclude": [
    "module",
    "function",
    "builtin_function_or_method",
    "instance",
    "_Feature"
   ],
   "window_display": false
  },
  "widgets": {
   "state": {
    "46e4ddcef9574a88ab75d5b79d0a4469": {
     "views": [
      {
       "cell_index": 5
      }
     ]
    }
   },
   "version": "1.2.0"
  }
 },
 "nbformat": 4,
 "nbformat_minor": 1
}
