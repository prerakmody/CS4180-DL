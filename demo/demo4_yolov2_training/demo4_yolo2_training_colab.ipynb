{
 "cells": [
  {
   "cell_type": "markdown",
   "metadata": {
    "collapsed": true
   },
   "source": [
    "# Start - Datasets"
   ]
  },
  {
   "cell_type": "code",
   "execution_count": null,
   "metadata": {
    "collapsed": true
   },
   "outputs": [],
   "source": [
    "%%time\n",
    "# ! rm -rf CS4180-DL\n",
    "# ! git clone --branch feature/prerak2 https://github.com/prerakmody/CS4180-DL\n",
    "# ! git clone --branch rukai-yolo2 https://github.com/prerakmody/CS4180-DL.git\n",
    "\n",
    "## Get The Pascal VOC Data\n",
    "# ! wget -P /content/CS4180-DL/data/dataset https://pjreddie.com/media/files/VOCtrainval_11-May-2012.tar\n",
    "# ! tar xf /content/CS4180-DL/data/dataset/VOCtrainval_11-May-2012.tar --directory /content/CS4180-DL/data/dataset\n",
    "# ! wget -P /content/CS4180-DL/data/dataset https://pjreddie.com/media/files/VOCtrainval_06-Nov-2007.tar & tar xf VOCtrainval_06-Nov-2007.tar   \n",
    "# ! tar xf /content/CS4180-DL/data/dataset/VOCtrainval_06-Nov-2007.tar --directory /content/CS4180-DL/data/dataset\n",
    "# ! wget -P /content/CS4180-DL/data/dataset https://pjreddie.com/media/files/VOCtest_06-Nov-2007.tar & tar xf VOCtest_06-Nov-2007.tar\n",
    "# ! tar xf /content/CS4180-DL/data/dataset/VOCtest_06-Nov-2007.tar --directory /content/CS4180-DL/data/dataset\n",
    "# ! mkdir /content/CS4180-DL/data/weights\n",
    "\n",
    "# ! nvidia-smi\n",
    "\n",
    "## Generate Labels for VOC\n",
    "# ! wget http://pjreddie.com/media/files/voc_label.py\n",
    "# ! python voc_label.py\n",
    "# ! cat 2007_train.txt 2007_val.txt 2012_*.txt > voc_train.txt"
   ]
  },
  {
   "cell_type": "markdown",
   "metadata": {},
   "source": [
    "# Start - Training"
   ]
  },
  {
   "cell_type": "code",
   "execution_count": null,
   "metadata": {
    "collapsed": true
   },
   "outputs": [],
   "source": [
    "import os\n",
    "import sys\n",
    "\n",
    "import torch\n",
    "\n",
    "DIR_MAIN = os.path.abspath('../../../repo1/') #'../../../CS4180-DL/'\n",
    "sys.path.append(DIR_MAIN) \n",
    "\n",
    "%load_ext autoreload\n",
    "%autoreload 2"
   ]
  },
  {
   "cell_type": "code",
   "execution_count": null,
   "metadata": {
    "collapsed": true
   },
   "outputs": [],
   "source": [
    "torch.cuda.empty_cache()\n",
    "\n",
    "from src.train import YOLOv2Train\n",
    "# get the yolov2 training work\n",
    "\n",
    "# datacfg    = os.path.join(DIR_MAIN, 'data/cfg/github_marvis/voc.data')  #\"pytorch-yolo2/cfg/voc.data\"\n",
    "# cfgfile    = os.path.join(DIR_MAIN, 'data/cfg/github_pjreddie/yolov2-voc.cfg')\n",
    "# weightfile = os.path.join(DIR_MAIN, 'yolov2-voc.weights')\n",
    "\n",
    "\n",
    "PASCAL_TRAIN = os.path.join(DIR_MAIN, 'data/dataset/VOCdevkit/voc_train.txt')\n",
    "PASCAL_VALID = os.path.join(DIR_MAIN, 'data/dataset/VOCdevkit/2007_test.txt')\n",
    "TRAIN_LOGDIR = os.path.join(DIR_MAIN, 'demo/demo4_yolov2_training/chkpoints')\n",
    "\n",
    "MODEL_CFG    = os.path.join(DIR_MAIN, 'data/cfg/github_pjreddie/yolov2-voc.cfg')\n",
    "MODEL_WEIGHT = os.path.join(DIR_MAIN, 'data/weights/github_pjreddie/yolov2-voc.weights')\n",
    "\n",
    "trainObj = YOLOv2Train()\n",
    "trainObj.train(PASCAL_TRAIN, PASCAL_VALID, TRAIN_LOGDIR, MODEL_CFG, MODEL_WEIGHT)"
   ]
  }
 ],
 "metadata": {
  "anaconda-cloud": {},
  "kernelspec": {
   "display_name": "Python [default]",
   "language": "python",
   "name": "python3"
  },
  "language_info": {
   "codemirror_mode": {
    "name": "ipython",
    "version": 3
   },
   "file_extension": ".py",
   "mimetype": "text/x-python",
   "name": "python",
   "nbconvert_exporter": "python",
   "pygments_lexer": "ipython3",
   "version": "3.5.5"
  },
  "varInspector": {
   "cols": {
    "lenName": 16,
    "lenType": 16,
    "lenVar": 40
   },
   "kernels_config": {
    "python": {
     "delete_cmd_postfix": "",
     "delete_cmd_prefix": "del ",
     "library": "var_list.py",
     "varRefreshCmd": "print(var_dic_list())"
    },
    "r": {
     "delete_cmd_postfix": ") ",
     "delete_cmd_prefix": "rm(",
     "library": "var_list.r",
     "varRefreshCmd": "cat(var_dic_list()) "
    }
   },
   "types_to_exclude": [
    "module",
    "function",
    "builtin_function_or_method",
    "instance",
    "_Feature"
   ],
   "window_display": false
  }
 },
 "nbformat": 4,
 "nbformat_minor": 1
}
