{
 "cells": [
  {
   "cell_type": "markdown",
   "metadata": {
    "colab": {
     "base_uri": "https://localhost:8080/",
     "height": 74
    },
    "colab_type": "code",
    "heading_collapsed": true,
    "id": "l40ba7zfNCbe",
    "outputId": "0eebb93f-08d2-47e0-8292-2184ff3e4b50"
   },
   "source": [
    "# Start"
   ]
  },
  {
   "cell_type": "code",
   "execution_count": 1,
   "metadata": {
    "ExecuteTime": {
     "end_time": "2019-06-11T07:24:29.682330Z",
     "start_time": "2019-06-11T07:24:03.248484Z"
    },
    "colab": {},
    "colab_type": "code",
    "hidden": true,
    "id": "2man52H0NLYV"
   },
   "outputs": [
    {
     "name": "stderr",
     "output_type": "stream",
     "text": [
      "Using TensorFlow backend.\n"
     ]
    },
    {
     "name": "stdout",
     "output_type": "stream",
     "text": [
      " - In Path :  /home/strider/Work/Netherlands/TUDelft/1_Courses/Sem2/DeepLearning/Project/repo1\n",
      " - USE_GPU :  True\n",
      "Tue Jun 11 09:24:29 2019       \r\n",
      "+-----------------------------------------------------------------------------+\r\n",
      "| NVIDIA-SMI 384.90                 Driver Version: 384.90                    |\r\n",
      "|-------------------------------+----------------------+----------------------+\r\n",
      "| GPU  Name        Persistence-M| Bus-Id        Disp.A | Volatile Uncorr. ECC |\r\n",
      "| Fan  Temp  Perf  Pwr:Usage/Cap|         Memory-Usage | GPU-Util  Compute M. |\r\n",
      "|===============================+======================+======================|\r\n",
      "|   0  GeForce 940MX       Off  | 00000000:01:00.0 Off |                  N/A |\r\n",
      "| N/A   43C    P0    N/A /  N/A |    455MiB /  2002MiB |      4%      Default |\r\n",
      "+-------------------------------+----------------------+----------------------+\r\n",
      "                                                                               \r\n",
      "+-----------------------------------------------------------------------------+\r\n",
      "| Processes:                                                       GPU Memory |\r\n",
      "|  GPU       PID   Type   Process name                             Usage      |\r\n",
      "|=============================================================================|\r\n",
      "|    0      1499      G   /usr/lib/xorg/Xorg                           156MiB |\r\n",
      "|    0      3045      G   /usr/bin/gnome-shell                          82MiB |\r\n",
      "|    0      3663      G   ...-token=06716DB025B23B317B1BDA069D5A8A37   127MiB |\r\n",
      "|    0      4075      G   ...ydesktop/libexec/mendeleydesktop.x86_64    16MiB |\r\n",
      "|    0     15696      G   ...-token=84653227750EF498574D07323AAA12BA    58MiB |\r\n",
      "+-----------------------------------------------------------------------------+\r\n"
     ]
    }
   ],
   "source": [
    "import os\n",
    "import sys\n",
    "\n",
    "import torch\n",
    "from tensorboardcolab import TensorBoardColab\n",
    "\n",
    "if (torch.cuda.is_available()):\n",
    "    dir_main = os.path.abspath('../../../repo1/')\n",
    "    sys.path.append(dir_main)\n",
    "    print (' - In Path : ', sys.path[-1])\n",
    "\n",
    "    USE_GPU = torch.cuda.is_available()\n",
    "    print (' - USE_GPU : ', USE_GPU)\n",
    "\n",
    "    !nvidia-smi\n",
    "else:\n",
    "    print (' - GPU Issues!')\n",
    "\n",
    "%load_ext autoreload\n",
    "%autoreload 2"
   ]
  },
  {
   "cell_type": "markdown",
   "metadata": {
    "heading_collapsed": true
   },
   "source": [
    "# Validate"
   ]
  },
  {
   "cell_type": "code",
   "execution_count": null,
   "metadata": {
    "hidden": true
   },
   "outputs": [],
   "source": [
    "torch.cuda.empty_cache()\n",
    "from src.predict import *\n",
    "from src.nets import *\n",
    "\n",
    "if (1):\n",
    "    DIR_PROJ         = os.path.abspath('../../../repo1/')\n",
    "\n",
    "if (1):\n",
    "    MODEL            = ''\n",
    "    MODEL_CFGFILE    = os.path.join(DIR_PROJ, 'data/cfg/github_pjreddie/yolov2-voc.cfg')\n",
    "    \n",
    "    MODEL_WEIGHTFILE = os.path.join(DIR_PROJ, 'data/weights/yolov2-voc.weights') #['0.5' : 0.6366, '0.25' : 0.7, '0.1' : 0.7363]\n",
    "    EVAL_PREFIX      = 'iter1_pretrained_'\n",
    "    \n",
    "    # MODEL_WEIGHTFILE = os.path.join(DIR_PROJ, 'data/weights/pruned/yolov2-voc-weight-prune-10.0.weights') #['0.5' : 0.6323, '0.25' : 0.7]\n",
    "    # EVAL_PREFIX      = 'iter1_pretrained_10_'\n",
    "    \n",
    "    # MODEL_WEIGHTFILE = os.path.join(DIR_PROJ, 'data/weights/pruned/yolov2-voc-weight-prune-30.0.weights') #['0.5' : 0.6323, '0.25' : 0.69, ]\n",
    "    # EVAL_PREFIX      = 'iter1_pretrained_30_'\n",
    "    \n",
    "    # MODEL_WEIGHTFILE = os.path.join(DIR_PROJ, 'data/weights/pruned/yolov2-voc-weight-prune-50.0.weights') #['0.25' :  0.6874]\n",
    "    # EVAL_PREFIX      = 'iter1_pretrained_50_'\n",
    "    \n",
    "    # MODEL_WEIGHTFILE = os.path.join(DIR_PROJ, 'data/weights/pruned/yolov2-voc-weight-prune-70.0.weights') #['0.25' :  0.5160]\n",
    "    # EVAL_PREFIX      = 'iter1_pretrained_70_'\n",
    "    \n",
    "    # MODEL_WEIGHTFILE = os.path.join(DIR_PROJ, 'data/weights/pruned/yolov2-voc-weight-prune-90.0.weights') #['0.25' :  0, '0.1' : 0, '0.005' : 0]\n",
    "    # EVAL_PREFIX      = 'iter1_pretrained_90_'\n",
    "    \n",
    "    MODEL_LOSS       = RegionLoss()\n",
    "    \n",
    "    PASCAL_DIR       = os.path.join(DIR_PROJ, 'data/dataset/VOCdevkit/')\n",
    "    EVAL_IMAGELIST   = os.path.join(DIR_PROJ, 'data/dataset/VOCdevkit/2007_test.txt')\n",
    "    EVAL_OUTPUTDIR   = os.path.join(DIR_PROJ, 'eval_data')\n",
    "    EVAL_OUTPUTDIR_PKL = os.path.join(DIR_PROJ, 'eval_results')\n",
    "    \n",
    "    \n",
    "    # EVAL_PREFIX      = 'iter1_weighspruned_70_'\n",
    "    \n",
    "    print (' - 0. MODEL       : ', MODEL)\n",
    "    print (' - 0. MODEL_WEIGHT: ', MODEL_WEIGHTFILE)\n",
    "    print (' - 0. EVAL_PREFIX : ', EVAL_PREFIX)\n",
    "   \n",
    "if (1):\n",
    "    BATCH_SIZE = 32\n",
    "    CONF_THRESH = 0.05 # [0.5, 0.25, 0.1, 0.005]\n",
    "    print (' - 0. BATCH_SIZE  : ', BATCH_SIZE)\n",
    "    print (' - 0. CONF_THRESH : ', CONF_THRESH)\n",
    "    \n",
    "if (1):\n",
    "    try:\n",
    "        print (' - 0. Logger      : ', LOGGER)\n",
    "    except:\n",
    "        LOGGER = TensorBoardColab()\n",
    "        print (' - 0. Logger      : ', LOGGER)    \n",
    "    \n",
    "    print ('')\n",
    "\n",
    "\n",
    "valObj = PASCALVOCEval(MODEL, MODEL_CFGFILE, MODEL_WEIGHTFILE, MODEL_LOSS \n",
    "                       ,PASCAL_DIR, EVAL_IMAGELIST, EVAL_OUTPUTDIR, EVAL_PREFIX, EVAL_OUTPUTDIR_PKL\n",
    "                       , LOGGER)\n",
    "valObj.predict(BATCH_SIZE=BATCH_SIZE, CONF_THRESH=CONF_THRESH)\n",
    "# valObj._do_python_eval()\n",
    "\n",
    "# ! ls -l /content/CS4180-DL/eval_data/iter1_pretrained_90_*"
   ]
  },
  {
   "cell_type": "markdown",
   "metadata": {},
   "source": [
    "# Train"
   ]
  },
  {
   "cell_type": "code",
   "execution_count": 24,
   "metadata": {
    "ExecuteTime": {
     "end_time": "2019-06-11T07:40:55.428756Z",
     "start_time": "2019-06-11T07:38:42.308323Z"
    },
    "colab": {
     "base_uri": "https://localhost:8080/",
     "height": 993
    },
    "colab_type": "code",
    "id": "72h-COiKN1s-",
    "outputId": "16600db5-9cb1-4f38-adf3-6f23068a4040",
    "scrolled": false
   },
   "outputs": [
    {
     "name": "stdout",
     "output_type": "stream",
     "text": [
      "Once deleted, variables cannot be recovered. Proceed (y/[n])? y\n"
     ]
    },
    {
     "name": "stderr",
     "output_type": "stream",
     "text": [
      "ERROR:root:Invalid alias: The name clear can't be aliased because it is another magic command.\n",
      "ERROR:root:Invalid alias: The name more can't be aliased because it is another magic command.\n",
      "ERROR:root:Invalid alias: The name less can't be aliased because it is another magic command.\n",
      "ERROR:root:Invalid alias: The name man can't be aliased because it is another magic command.\n"
     ]
    },
    {
     "name": "stdout",
     "output_type": "stream",
     "text": [
      " - 0. DIR_MAIN     :   /home/strider/Work/Netherlands/TUDelft/1_Courses/Sem2/DeepLearning/Project/repo1\n",
      " - 0. MODEL_WEIGHT :   /home/strider/Work/Netherlands/TUDelft/1_Courses/Sem2/DeepLearning/Project/repo1/data/weights/github_pjreddie/yolov2-voc.weights\n",
      " - 0. VAL_PREFIX   :  pretrained_\n",
      " - 0. BATCH_SIZE    :  32\n",
      " - 0. DEBUG_EPOCHS :  -1\n",
      " - 0. MAX_EPOCHS   :  100\n",
      " - 0. Logger       :  \n",
      "\n"
     ]
    },
    {
     "data": {
      "image/png": "[encoded data removed]",
      "text/plain": [
       "<Figure size 432x288 with 1 Axes>"
      ]
     },
     "metadata": {
      "needs_background": "light"
     },
     "output_type": "display_data"
    },
    {
     "name": "stdout",
     "output_type": "stream",
     "text": [
      "  -- [DEBUG] Non-BN Block :  {'pad': '1', 'type': 'convolutional', 'activation': 'linear', 'filters': '125', 'stride': '1', 'size': '1', 'batch_normalize': 0}\n",
      "  -- [DEBUG][Darknet] self.anchors :  [1.3221, 1.73145, 3.19275, 4.00944, 5.05587, 8.09892, 9.47112, 4.84053, 11.2364, 10.0071]\n",
      "  -- [DEBUG][Darknet] self.num_anchors :  5\n",
      "  -- [DEBUG][Darknet] self.anchor_step :  2.0\n",
      "  -- [DEBUG][Darknet] self.num_classes :  20\n",
      "  -- [DEBUG][Darknet] self.loss :  RegionLoss()\n",
      "\n",
      " -- init_epoch :  0\n",
      " -- max_epochs :  100\n",
      " ---------------------------- EPOCH :  0  (LR :  0.0005 ) ---------------------------------- \n"
     ]
    },
    {
     "data": {
      "application/vnd.jupyter.widget-view+json": {
       "model_id": "2395a6c5d6e846b1bc63a059f166bda4",
       "version_major": 2,
       "version_minor": 0
      },
      "text/plain": [
       "HBox(children=(IntProgress(value=0, max=16576), HTML(value='')))"
      ]
     },
     "metadata": {},
     "output_type": "display_data"
    },
    {
     "name": "stdout",
     "output_type": "stream",
     "text": [
      "  - [INFO] data (or X) :  torch.Size([32, 3, 416, 416])  || type :  torch.float32\n",
      "  - [INFO] target (or Y) :  torch.Size([32, 250])  || type :  torch.float32\n",
      "  - [INFO] Total train points :  518  || nsamples :  16551\n"
     ]
    },
    {
     "name": "stderr",
     "output_type": "stream",
     "text": [
      "Traceback (most recent call last):\n",
      "  File \"/home/strider/Work/Netherlands/TUDelft/1_Courses/Sem2/DeepLearning/Project/repo1/src/train.py\", line 223, in train\n",
      "    output           = self.model(data)\n",
      "  File \"/home/strider/anaconda3/lib/python3.5/site-packages/torch/nn/modules/module.py\", line 489, in __call__\n",
      "    result = self.forward(*input, **kwargs)\n",
      "  File \"/home/strider/Work/Netherlands/TUDelft/1_Courses/Sem2/DeepLearning/Project/repo1/src/nets.py\", line 743, in forward\n",
      "    x = self.models[ind](x)\n",
      "  File \"/home/strider/anaconda3/lib/python3.5/site-packages/torch/nn/modules/module.py\", line 489, in __call__\n",
      "    result = self.forward(*input, **kwargs)\n",
      "  File \"/home/strider/anaconda3/lib/python3.5/site-packages/torch/nn/modules/container.py\", line 92, in forward\n",
      "    input = module(input)\n",
      "  File \"/home/strider/anaconda3/lib/python3.5/site-packages/torch/nn/modules/module.py\", line 489, in __call__\n",
      "    result = self.forward(*input, **kwargs)\n",
      "  File \"/home/strider/anaconda3/lib/python3.5/site-packages/torch/nn/modules/batchnorm.py\", line 76, in forward\n",
      "    exponential_average_factor, self.eps)\n",
      "  File \"/home/strider/anaconda3/lib/python3.5/site-packages/torch/nn/functional.py\", line 1623, in batch_norm\n",
      "    training, momentum, eps, torch.backends.cudnn.enabled\n",
      "RuntimeError: CUDA out of memory. Tried to allocate 676.00 MiB (GPU 0; 1.96 GiB total capacity; 932.70 MiB already allocated; 347.81 MiB free; 431.00 KiB cached)\n"
     ]
    },
    {
     "name": "stdout",
     "output_type": "stream",
     "text": [
      "> /home/strider/Work/Netherlands/TUDelft/1_Courses/Sem2/DeepLearning/Project/repo1/src/train.py(197)train()\n",
      "-> for batch_idx, (data, target) in enumerate(train_loader):\n",
      "(Pdb) q\n",
      "\n"
     ]
    },
    {
     "ename": "BdbQuit",
     "evalue": "",
     "output_type": "error",
     "traceback": [
      "\u001b[0;31m---------------------------------------------------------------------------\u001b[0m",
      "\u001b[0;31mBdbQuit\u001b[0m                                   Traceback (most recent call last)",
      "\u001b[0;32m<ipython-input-24-efd4062a8eff>\u001b[0m in \u001b[0;36m<module>\u001b[0;34m\u001b[0m\n\u001b[1;32m     80\u001b[0m                        \u001b[0;34m,\u001b[0m \u001b[0mMODEL_CFG\u001b[0m\u001b[0;34m,\u001b[0m \u001b[0mMODEL_WEIGHT\u001b[0m\u001b[0;34m\u001b[0m\u001b[0m\n\u001b[1;32m     81\u001b[0m                        \u001b[0;34m,\u001b[0m \u001b[0mBATCH_SIZE\u001b[0m\u001b[0;34m,\u001b[0m \u001b[0mLEARNING_RATES\u001b[0m\u001b[0;34m,\u001b[0m \u001b[0mMAX_EPOCHS\u001b[0m\u001b[0;34m\u001b[0m\u001b[0m\n\u001b[0;32m---> 82\u001b[0;31m                        , LOGGER, DEBUG_EPOCHS=DEBUG_EPOCHS, verbose=0)\n\u001b[0m\u001b[1;32m     83\u001b[0m \u001b[0;32melse\u001b[0m\u001b[0;34m:\u001b[0m\u001b[0;34m\u001b[0m\u001b[0m\n\u001b[1;32m     84\u001b[0m     \u001b[0mprint\u001b[0m \u001b[0;34m(\u001b[0m\u001b[0;34m' - GPU Issues!!'\u001b[0m\u001b[0;34m)\u001b[0m\u001b[0;34m\u001b[0m\u001b[0m\n",
      "\u001b[0;32m~/Work/Netherlands/TUDelft/1_Courses/Sem2/DeepLearning/Project/repo1/src/train.py\u001b[0m in \u001b[0;36mtrain\u001b[0;34m(self, PASCAL_DIR, PASCAL_TRAIN, PASCAL_VALID, TRAIN_LOGDIR, VAL_LOGDIR, VAL_OUTPUTDIR_PKL, VAL_PREFIX, MODEL_CFG, MODEL_WEIGHT, BATCH_SIZE, LEARNING_RATES, MAX_EPOCHS, LOGGER, DEBUG_EPOCHS, verbose)\u001b[0m\n\u001b[1;32m    195\u001b[0m             \u001b[0;32mwith\u001b[0m \u001b[0mtqdm\u001b[0m\u001b[0;34m.\u001b[0m\u001b[0mtqdm_notebook\u001b[0m\u001b[0;34m(\u001b[0m\u001b[0mtotal\u001b[0m \u001b[0;34m=\u001b[0m \u001b[0mlen\u001b[0m\u001b[0;34m(\u001b[0m\u001b[0mtrain_loader\u001b[0m\u001b[0;34m)\u001b[0m\u001b[0;34m*\u001b[0m\u001b[0mself\u001b[0m\u001b[0;34m.\u001b[0m\u001b[0mbatch_size\u001b[0m\u001b[0;34m)\u001b[0m \u001b[0;32mas\u001b[0m \u001b[0mpbar\u001b[0m\u001b[0;34m:\u001b[0m\u001b[0;34m\u001b[0m\u001b[0m\n\u001b[1;32m    196\u001b[0m                 \u001b[0mtrain_loss_total\u001b[0m       \u001b[0;34m=\u001b[0m \u001b[0;36m0.0\u001b[0m\u001b[0;34m\u001b[0m\u001b[0m\n\u001b[0;32m--> 197\u001b[0;31m                 \u001b[0;32mfor\u001b[0m \u001b[0mbatch_idx\u001b[0m\u001b[0;34m,\u001b[0m \u001b[0;34m(\u001b[0m\u001b[0mdata\u001b[0m\u001b[0;34m,\u001b[0m \u001b[0mtarget\u001b[0m\u001b[0;34m)\u001b[0m \u001b[0;32min\u001b[0m \u001b[0menumerate\u001b[0m\u001b[0;34m(\u001b[0m\u001b[0mtrain_loader\u001b[0m\u001b[0;34m)\u001b[0m\u001b[0;34m:\u001b[0m\u001b[0;34m\u001b[0m\u001b[0m\n\u001b[0m\u001b[1;32m    198\u001b[0m                     \u001b[0;32mif\u001b[0m \u001b[0;34m(\u001b[0m\u001b[0;36m1\u001b[0m\u001b[0;34m)\u001b[0m\u001b[0;34m:\u001b[0m\u001b[0;34m\u001b[0m\u001b[0m\n\u001b[1;32m    199\u001b[0m                         \u001b[0;32mif\u001b[0m \u001b[0;34m(\u001b[0m\u001b[0mDEBUG_EPOCHS\u001b[0m \u001b[0;34m>\u001b[0m \u001b[0;34m-\u001b[0m\u001b[0;36m1\u001b[0m\u001b[0;34m)\u001b[0m\u001b[0;34m:\u001b[0m\u001b[0;34m\u001b[0m\u001b[0m\n",
      "\u001b[0;32m~/Work/Netherlands/TUDelft/1_Courses/Sem2/DeepLearning/Project/repo1/src/train.py\u001b[0m in \u001b[0;36mtrain\u001b[0;34m(self, PASCAL_DIR, PASCAL_TRAIN, PASCAL_VALID, TRAIN_LOGDIR, VAL_LOGDIR, VAL_OUTPUTDIR_PKL, VAL_PREFIX, MODEL_CFG, MODEL_WEIGHT, BATCH_SIZE, LEARNING_RATES, MAX_EPOCHS, LOGGER, DEBUG_EPOCHS, verbose)\u001b[0m\n\u001b[1;32m    195\u001b[0m             \u001b[0;32mwith\u001b[0m \u001b[0mtqdm\u001b[0m\u001b[0;34m.\u001b[0m\u001b[0mtqdm_notebook\u001b[0m\u001b[0;34m(\u001b[0m\u001b[0mtotal\u001b[0m \u001b[0;34m=\u001b[0m \u001b[0mlen\u001b[0m\u001b[0;34m(\u001b[0m\u001b[0mtrain_loader\u001b[0m\u001b[0;34m)\u001b[0m\u001b[0;34m*\u001b[0m\u001b[0mself\u001b[0m\u001b[0;34m.\u001b[0m\u001b[0mbatch_size\u001b[0m\u001b[0;34m)\u001b[0m \u001b[0;32mas\u001b[0m \u001b[0mpbar\u001b[0m\u001b[0;34m:\u001b[0m\u001b[0;34m\u001b[0m\u001b[0m\n\u001b[1;32m    196\u001b[0m                 \u001b[0mtrain_loss_total\u001b[0m       \u001b[0;34m=\u001b[0m \u001b[0;36m0.0\u001b[0m\u001b[0;34m\u001b[0m\u001b[0m\n\u001b[0;32m--> 197\u001b[0;31m                 \u001b[0;32mfor\u001b[0m \u001b[0mbatch_idx\u001b[0m\u001b[0;34m,\u001b[0m \u001b[0;34m(\u001b[0m\u001b[0mdata\u001b[0m\u001b[0;34m,\u001b[0m \u001b[0mtarget\u001b[0m\u001b[0;34m)\u001b[0m \u001b[0;32min\u001b[0m \u001b[0menumerate\u001b[0m\u001b[0;34m(\u001b[0m\u001b[0mtrain_loader\u001b[0m\u001b[0;34m)\u001b[0m\u001b[0;34m:\u001b[0m\u001b[0;34m\u001b[0m\u001b[0m\n\u001b[0m\u001b[1;32m    198\u001b[0m                     \u001b[0;32mif\u001b[0m \u001b[0;34m(\u001b[0m\u001b[0;36m1\u001b[0m\u001b[0;34m)\u001b[0m\u001b[0;34m:\u001b[0m\u001b[0;34m\u001b[0m\u001b[0m\n\u001b[1;32m    199\u001b[0m                         \u001b[0;32mif\u001b[0m \u001b[0;34m(\u001b[0m\u001b[0mDEBUG_EPOCHS\u001b[0m \u001b[0;34m>\u001b[0m \u001b[0;34m-\u001b[0m\u001b[0;36m1\u001b[0m\u001b[0;34m)\u001b[0m\u001b[0;34m:\u001b[0m\u001b[0;34m\u001b[0m\u001b[0m\n",
      "\u001b[0;32m~/anaconda3/lib/python3.5/bdb.py\u001b[0m in \u001b[0;36mtrace_dispatch\u001b[0;34m(self, frame, event, arg)\u001b[0m\n\u001b[1;32m     46\u001b[0m             \u001b[0;32mreturn\u001b[0m \u001b[0;31m# None\u001b[0m\u001b[0;34m\u001b[0m\u001b[0m\n\u001b[1;32m     47\u001b[0m         \u001b[0;32mif\u001b[0m \u001b[0mevent\u001b[0m \u001b[0;34m==\u001b[0m \u001b[0;34m'line'\u001b[0m\u001b[0;34m:\u001b[0m\u001b[0;34m\u001b[0m\u001b[0m\n\u001b[0;32m---> 48\u001b[0;31m             \u001b[0;32mreturn\u001b[0m \u001b[0mself\u001b[0m\u001b[0;34m.\u001b[0m\u001b[0mdispatch_line\u001b[0m\u001b[0;34m(\u001b[0m\u001b[0mframe\u001b[0m\u001b[0;34m)\u001b[0m\u001b[0;34m\u001b[0m\u001b[0m\n\u001b[0m\u001b[1;32m     49\u001b[0m         \u001b[0;32mif\u001b[0m \u001b[0mevent\u001b[0m \u001b[0;34m==\u001b[0m \u001b[0;34m'call'\u001b[0m\u001b[0;34m:\u001b[0m\u001b[0;34m\u001b[0m\u001b[0m\n\u001b[1;32m     50\u001b[0m             \u001b[0;32mreturn\u001b[0m \u001b[0mself\u001b[0m\u001b[0;34m.\u001b[0m\u001b[0mdispatch_call\u001b[0m\u001b[0;34m(\u001b[0m\u001b[0mframe\u001b[0m\u001b[0;34m,\u001b[0m \u001b[0marg\u001b[0m\u001b[0;34m)\u001b[0m\u001b[0;34m\u001b[0m\u001b[0m\n",
      "\u001b[0;32m~/anaconda3/lib/python3.5/bdb.py\u001b[0m in \u001b[0;36mdispatch_line\u001b[0;34m(self, frame)\u001b[0m\n\u001b[1;32m     65\u001b[0m         \u001b[0;32mif\u001b[0m \u001b[0mself\u001b[0m\u001b[0;34m.\u001b[0m\u001b[0mstop_here\u001b[0m\u001b[0;34m(\u001b[0m\u001b[0mframe\u001b[0m\u001b[0;34m)\u001b[0m \u001b[0;32mor\u001b[0m \u001b[0mself\u001b[0m\u001b[0;34m.\u001b[0m\u001b[0mbreak_here\u001b[0m\u001b[0;34m(\u001b[0m\u001b[0mframe\u001b[0m\u001b[0;34m)\u001b[0m\u001b[0;34m:\u001b[0m\u001b[0;34m\u001b[0m\u001b[0m\n\u001b[1;32m     66\u001b[0m             \u001b[0mself\u001b[0m\u001b[0;34m.\u001b[0m\u001b[0muser_line\u001b[0m\u001b[0;34m(\u001b[0m\u001b[0mframe\u001b[0m\u001b[0;34m)\u001b[0m\u001b[0;34m\u001b[0m\u001b[0m\n\u001b[0;32m---> 67\u001b[0;31m             \u001b[0;32mif\u001b[0m \u001b[0mself\u001b[0m\u001b[0;34m.\u001b[0m\u001b[0mquitting\u001b[0m\u001b[0;34m:\u001b[0m \u001b[0;32mraise\u001b[0m \u001b[0mBdbQuit\u001b[0m\u001b[0;34m\u001b[0m\u001b[0m\n\u001b[0m\u001b[1;32m     68\u001b[0m         \u001b[0;32mreturn\u001b[0m \u001b[0mself\u001b[0m\u001b[0;34m.\u001b[0m\u001b[0mtrace_dispatch\u001b[0m\u001b[0;34m\u001b[0m\u001b[0m\n\u001b[1;32m     69\u001b[0m \u001b[0;34m\u001b[0m\u001b[0m\n",
      "\u001b[0;31mBdbQuit\u001b[0m: "
     ]
    }
   ],
   "source": [
    "%reset\n",
    "import os\n",
    "import sys\n",
    "\n",
    "import torch\n",
    "from tensorboardcolab import TensorBoardColab\n",
    "\n",
    "torch.cuda.empty_cache()\n",
    "\n",
    "if (torch.cuda.is_available()):\n",
    "    \n",
    "    if (1):\n",
    "        DIR_MAIN         = os.path.abspath('../../../repo1/')\n",
    "        sys.path.append(DIR_MAIN)\n",
    "        print (' - 0. DIR_MAIN     :  ', DIR_MAIN)\n",
    "        from src.train import YOLOv2Train\n",
    "        \n",
    "    if (1):\n",
    "        PASCAL_DIR   = os.path.join(DIR_MAIN, 'data/dataset/VOCdevkit/')\n",
    "        PASCAL_TRAIN = os.path.join(DIR_MAIN, 'data/dataset/VOCdevkit/voc_train.txt')\n",
    "        PASCAL_VALID = os.path.join(DIR_MAIN, 'data/dataset/VOCdevkit/2007_test.txt')\n",
    "        TRAIN_LOGDIR = os.path.join(DIR_MAIN, 'train_data')\n",
    "        VAL_LOGDIR   = os.path.join(DIR_MAIN, 'eval_data')\n",
    "        VAL_OUTPUTDIR_PKL = os.path.join(DIR_MAIN, 'eval_results')\n",
    "        MODEL_CFG    = os.path.join(DIR_MAIN, 'data/cfg/github_pjreddie/yolov2-voc.cfg')\n",
    "        \n",
    "    if (1):\n",
    "        # MODEL_WEIGHT = os.path.join(DIR_MAIN, 'data/weights/pruned/yolov2-voc-weight-prune-30.0.weights')\n",
    "        # VAL_PREFIX   = 'pretrained-30_'\n",
    "        \n",
    "        MODEL_WEIGHT = os.path.join(DIR_MAIN, 'data/weights/github_pjreddie/yolov2-voc.weights')\n",
    "        VAL_PREFIX   = 'pretrained_'\n",
    "        \n",
    "        print (' - 0. MODEL_WEIGHT :  ', MODEL_WEIGHT)\n",
    "        print (' - 0. VAL_PREFIX   : ', VAL_PREFIX)\n",
    "        \n",
    "    if (1):\n",
    "        BATCH_SIZE    = 32;\n",
    "        print (' - 0. BATCH_SIZE    : ', BATCH_SIZE)\n",
    "        \n",
    "    if (1):\n",
    "        DEBUG_EPOCHS = -1 #[-1, 50]\n",
    "        MAX_EPOCHS   = 100\n",
    "        \n",
    "        print (' - 0. DEBUG_EPOCHS : ', DEBUG_EPOCHS)\n",
    "        print (' - 0. MAX_EPOCHS   : ', MAX_EPOCHS)\n",
    "\n",
    "    if (0):\n",
    "        LEARNING_RATE = 0.0001 \n",
    "        print (' - 0. LEARNING_RATE : ', LEARNING_RATE)\n",
    "        LEARNING_RATES = [LEARNING_RATE for _ in range(MAX_EPOCHS)]\n",
    "    else:\n",
    "        import numpy as np\n",
    "        a = np.linspace(0.0005,0.0001, 10)\n",
    "        b = np.linspace(0.0001, 0.00001, 10)\n",
    "        c = np.linspace(0.00001, 0.0001, 10)\n",
    "        d = np.linspace(0.0001, 0.0005,10) \n",
    "        LEARNING_RATES = np.hstack((a,b,c,d,a,b,c,d,a,b))\n",
    "\n",
    "        import matplotlib.pyplot as plt\n",
    "        plt.plot(LEARNING_RATES)\n",
    "        plt.title('Cyclical Learning Rates')\n",
    "        plt.xlabel('Epochs')\n",
    "        plt.ylabel('Learning Rate')\n",
    "        plt.show()\n",
    "    \n",
    "    assert len(LEARNING_RATES) == MAX_EPOCHS\n",
    "    \n",
    "    if (1):\n",
    "        try:\n",
    "            LOGGER = ''\n",
    "            print (' - 0. Logger       : ', LOGGER)\n",
    "        except:\n",
    "            LOGGER = TensorBoardColab()\n",
    "            print (' - 0. Logger       : ', LOGGER)\n",
    "        print ('')\n",
    "    \n",
    "\n",
    "    if (1):\n",
    "        trainObj = YOLOv2Train()\n",
    "        trainObj.train(PASCAL_DIR, PASCAL_TRAIN, PASCAL_VALID, TRAIN_LOGDIR, VAL_LOGDIR, VAL_OUTPUTDIR_PKL, VAL_PREFIX\n",
    "                       , MODEL_CFG, MODEL_WEIGHT\n",
    "                       , BATCH_SIZE, LEARNING_RATES, MAX_EPOCHS\n",
    "                       , LOGGER, DEBUG_EPOCHS=DEBUG_EPOCHS, verbose=0)\n",
    "else:\n",
    "    print (' - GPU Issues!!')"
   ]
  },
  {
   "cell_type": "markdown",
   "metadata": {},
   "source": [
    "# Tmp"
   ]
  },
  {
   "cell_type": "code",
   "execution_count": null,
   "metadata": {
    "ExecuteTime": {
     "end_time": "2019-06-11T07:37:10.264192Z",
     "start_time": "2019-06-11T07:37:10.047970Z"
    }
   },
   "outputs": [],
   "source": []
  }
 ],
 "metadata": {
  "accelerator": "GPU",
  "anaconda-cloud": {},
  "colab": {
   "collapsed_sections": [],
   "name": "Yolov2.ipynb",
   "provenance": [],
   "version": "0.3.2"
  },
  "kernelspec": {
   "display_name": "Python 3",
   "language": "python",
   "name": "python3"
  },
  "language_info": {
   "codemirror_mode": {
    "name": "ipython",
    "version": 3
   },
   "file_extension": ".py",
   "mimetype": "text/x-python",
   "name": "python",
   "nbconvert_exporter": "python",
   "pygments_lexer": "ipython3",
   "version": "3.5.5"
  },
  "varInspector": {
   "cols": {
    "lenName": 16,
    "lenType": 16,
    "lenVar": 40
   },
   "kernels_config": {
    "python": {
     "delete_cmd_postfix": "",
     "delete_cmd_prefix": "del ",
     "library": "var_list.py",
     "varRefreshCmd": "print(var_dic_list())"
    },
    "r": {
     "delete_cmd_postfix": ") ",
     "delete_cmd_prefix": "rm(",
     "library": "var_list.r",
     "varRefreshCmd": "cat(var_dic_list()) "
    }
   },
   "types_to_exclude": [
    "module",
    "function",
    "builtin_function_or_method",
    "instance",
    "_Feature"
   ],
   "window_display": false
  }
 },
 "nbformat": 4,
 "nbformat_minor": 1
}
