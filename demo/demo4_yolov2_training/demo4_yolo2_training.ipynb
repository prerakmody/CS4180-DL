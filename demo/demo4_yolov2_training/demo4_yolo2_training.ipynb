{
 "cells": [
  {
   "cell_type": "markdown",
   "metadata": {
    "colab": {
     "base_uri": "https://localhost:8080/",
     "height": 74
    },
    "colab_type": "code",
    "id": "l40ba7zfNCbe",
    "outputId": "0eebb93f-08d2-47e0-8292-2184ff3e4b50"
   },
   "source": [
    "# Start"
   ]
  },
  {
   "cell_type": "code",
   "execution_count": 1,
   "metadata": {
    "ExecuteTime": {
     "end_time": "2019-06-06T14:26:58.655597Z",
     "start_time": "2019-06-06T14:26:48.536066Z"
    },
    "colab": {},
    "colab_type": "code",
    "id": "2man52H0NLYV"
   },
   "outputs": [],
   "source": [
    "import os\n",
    "import sys\n",
    "\n",
    "import torch\n",
    "\n",
    "DIR_MAIN = os.path.abspath('../../../repo1/') #'../../../CS4180-DL/'\n",
    "sys.path.append(DIR_MAIN) \n",
    "\n",
    "%load_ext autoreload\n",
    "%autoreload 2"
   ]
  },
  {
   "cell_type": "markdown",
   "metadata": {},
   "source": [
    "# Train"
   ]
  },
  {
   "cell_type": "code",
   "execution_count": 5,
   "metadata": {
    "ExecuteTime": {
     "end_time": "2019-06-06T14:28:59.670576Z",
     "start_time": "2019-06-06T14:28:42.068593Z"
    },
    "colab": {
     "base_uri": "https://localhost:8080/",
     "height": 993
    },
    "colab_type": "code",
    "id": "72h-COiKN1s-",
    "outputId": "16600db5-9cb1-4f38-adf3-6f23068a4040",
    "scrolled": false
   },
   "outputs": [
    {
     "name": "stdout",
     "output_type": "stream",
     "text": [
      " - 1. DIR_MAIN :   /home/strider/Work/Netherlands/TUDelft/1_Courses/Sem2/DeepLearning/Project/repo1\n",
      " - 2. MODEL_WEIGHT :   /home/strider/Work/Netherlands/TUDelft/1_Courses/Sem2/DeepLearning/Project/repo1/data/dataset/weights/yolov2-voc.weights\n",
      " - 3. VAL_PREFIX :  pretrained\n",
      " - 4. Logger :  \n",
      "  -- [DEBUG] Non-BN Block :  {'filters': '125', 'batch_normalize': 0, 'activation': 'linear', 'size': '1', 'type': 'convolutional', 'pad': '1', 'stride': '1'}\n",
      "  -- [DEBUG][Darknet] self.anchors :  [1.3221, 1.73145, 3.19275, 4.00944, 5.05587, 8.09892, 9.47112, 4.84053, 11.2364, 10.0071]\n",
      "  -- [DEBUG][Darknet] self.num_anchors :  5\n",
      "  -- [DEBUG][Darknet] self.anchor_step :  2.0\n",
      "  -- [DEBUG][Darknet] self.num_classes :  20\n",
      "  -- [DEBUG][Darknet] self.loss :  RegionLoss()\n"
     ]
    },
    {
     "ename": "FileNotFoundError",
     "evalue": "[Errno 2] No such file or directory: '/home/strider/Work/Netherlands/TUDelft/1_Courses/Sem2/DeepLearning/Project/repo1/data/dataset/weights/yolov2-voc.weights'",
     "output_type": "error",
     "traceback": [
      "\u001b[0;31m---------------------------------------------------------------------------\u001b[0m",
      "\u001b[0;31mFileNotFoundError\u001b[0m                         Traceback (most recent call last)",
      "\u001b[0;32m<ipython-input-5-5b4254af8d1d>\u001b[0m in \u001b[0;36m<module>\u001b[0;34m\u001b[0m\n\u001b[1;32m     38\u001b[0m                    \u001b[0;34m,\u001b[0m \u001b[0mMODEL_CFG\u001b[0m\u001b[0;34m,\u001b[0m \u001b[0mMODEL_WEIGHT\u001b[0m\u001b[0;34m\u001b[0m\u001b[0m\n\u001b[1;32m     39\u001b[0m                    \u001b[0;34m,\u001b[0m \u001b[0mBATCH_SIZE\u001b[0m\u001b[0;34m\u001b[0m\u001b[0m\n\u001b[0;32m---> 40\u001b[0;31m                    , LOGGER)\n\u001b[0m",
      "\u001b[0;32m~/Work/Netherlands/TUDelft/1_Courses/Sem2/DeepLearning/Project/repo1/src/train.py\u001b[0m in \u001b[0;36mtrain\u001b[0;34m(self, PASCAL_DIR, PASCAL_TRAIN, PASCAL_VALID, TRAIN_LOGDIR, VAL_LOGDIR, VAL_OUTPUTDIR_PKL, VAL_PREFIX, MODEL_CFG, MODEL_WEIGHT, BATCH_SIZE, LOGGER, DEBUG_EPOCHS, verbose)\u001b[0m\n\u001b[1;32m     92\u001b[0m             \u001b[0;32mif\u001b[0m \u001b[0mself\u001b[0m\u001b[0;34m.\u001b[0m\u001b[0muse_cuda\u001b[0m\u001b[0;34m:\u001b[0m\u001b[0;34m\u001b[0m\u001b[0m\n\u001b[1;32m     93\u001b[0m                 \u001b[0mself\u001b[0m\u001b[0;34m.\u001b[0m\u001b[0mmodel\u001b[0m \u001b[0;34m=\u001b[0m \u001b[0mself\u001b[0m\u001b[0;34m.\u001b[0m\u001b[0mmodel\u001b[0m\u001b[0;34m.\u001b[0m\u001b[0mcuda\u001b[0m\u001b[0;34m(\u001b[0m\u001b[0;34m)\u001b[0m\u001b[0;34m\u001b[0m\u001b[0m\n\u001b[0;32m---> 94\u001b[0;31m             \u001b[0mself\u001b[0m\u001b[0;34m.\u001b[0m\u001b[0mmodel\u001b[0m\u001b[0;34m.\u001b[0m\u001b[0mload_weights\u001b[0m\u001b[0;34m(\u001b[0m\u001b[0mweightfile\u001b[0m\u001b[0;34m)\u001b[0m\u001b[0;34m\u001b[0m\u001b[0m\n\u001b[0m\u001b[1;32m     95\u001b[0m             \u001b[0;31m# model.print_network()\u001b[0m\u001b[0;34m\u001b[0m\u001b[0;34m\u001b[0m\u001b[0m\n\u001b[1;32m     96\u001b[0m \u001b[0;34m\u001b[0m\u001b[0m\n",
      "\u001b[0;32m~/Work/Netherlands/TUDelft/1_Courses/Sem2/DeepLearning/Project/repo1/src/nets.py\u001b[0m in \u001b[0;36mload_weights\u001b[0;34m(self, weightfile)\u001b[0m\n\u001b[1;32m    890\u001b[0m \u001b[0;34m\u001b[0m\u001b[0m\n\u001b[1;32m    891\u001b[0m     \u001b[0;32mdef\u001b[0m \u001b[0mload_weights\u001b[0m\u001b[0;34m(\u001b[0m\u001b[0mself\u001b[0m\u001b[0;34m,\u001b[0m \u001b[0mweightfile\u001b[0m\u001b[0;34m)\u001b[0m\u001b[0;34m:\u001b[0m\u001b[0;34m\u001b[0m\u001b[0m\n\u001b[0;32m--> 892\u001b[0;31m         \u001b[0;32mwith\u001b[0m \u001b[0mopen\u001b[0m\u001b[0;34m(\u001b[0m\u001b[0mweightfile\u001b[0m\u001b[0;34m,\u001b[0m \u001b[0mmode\u001b[0m\u001b[0;34m=\u001b[0m\u001b[0;34m'rb'\u001b[0m\u001b[0;34m)\u001b[0m \u001b[0;32mas\u001b[0m \u001b[0mf\u001b[0m\u001b[0;34m:\u001b[0m\u001b[0;34m\u001b[0m\u001b[0m\n\u001b[0m\u001b[1;32m    893\u001b[0m             \u001b[0mmajor\u001b[0m \u001b[0;34m=\u001b[0m \u001b[0mnp\u001b[0m\u001b[0;34m.\u001b[0m\u001b[0mfromfile\u001b[0m\u001b[0;34m(\u001b[0m\u001b[0mf\u001b[0m\u001b[0;34m,\u001b[0m \u001b[0mdtype\u001b[0m\u001b[0;34m=\u001b[0m\u001b[0mnp\u001b[0m\u001b[0;34m.\u001b[0m\u001b[0mint32\u001b[0m\u001b[0;34m,\u001b[0m \u001b[0mcount\u001b[0m\u001b[0;34m=\u001b[0m\u001b[0;36m1\u001b[0m\u001b[0;34m)\u001b[0m\u001b[0;34m\u001b[0m\u001b[0m\n\u001b[1;32m    894\u001b[0m             \u001b[0mminor\u001b[0m \u001b[0;34m=\u001b[0m \u001b[0mnp\u001b[0m\u001b[0;34m.\u001b[0m\u001b[0mfromfile\u001b[0m\u001b[0;34m(\u001b[0m\u001b[0mf\u001b[0m\u001b[0;34m,\u001b[0m \u001b[0mdtype\u001b[0m\u001b[0;34m=\u001b[0m\u001b[0mnp\u001b[0m\u001b[0;34m.\u001b[0m\u001b[0mint32\u001b[0m\u001b[0;34m,\u001b[0m \u001b[0mcount\u001b[0m\u001b[0;34m=\u001b[0m\u001b[0;36m1\u001b[0m\u001b[0;34m)\u001b[0m\u001b[0;34m\u001b[0m\u001b[0m\n",
      "\u001b[0;31mFileNotFoundError\u001b[0m: [Errno 2] No such file or directory: '/home/strider/Work/Netherlands/TUDelft/1_Courses/Sem2/DeepLearning/Project/repo1/data/dataset/weights/yolov2-voc.weights'"
     ]
    }
   ],
   "source": [
    "torch.cuda.empty_cache()\n",
    "from src.train import YOLOv2Train\n",
    "from tensorboardcolab import TensorBoardColab\n",
    "\n",
    "if (1):\n",
    "    DIR_MAIN         = os.path.abspath('../../../repo1')\n",
    "    print (' - 1. DIR_MAIN :  ', DIR_MAIN)\n",
    "    \n",
    "if (1):\n",
    "    PASCAL_DIR   = os.path.join(DIR_MAIN, 'data/dataset/VOCdevkit/')\n",
    "    PASCAL_TRAIN = os.path.join(DIR_MAIN, 'data/dataset/VOCdevkit/voc_train.txt')\n",
    "    PASCAL_VALID = os.path.join(DIR_MAIN, 'data/dataset/VOCdevkit/2007_test.txt')\n",
    "    TRAIN_LOGDIR = os.path.join(DIR_MAIN, 'train_data')\n",
    "    VAL_LOGDIR   = os.path.join(DIR_MAIN, 'eval_data')\n",
    "    VAL_OUTPUTDIR_PKL = os.path.join(DIR_MAIN, 'eval_results')\n",
    "    MODEL_CFG    = os.path.join(DIR_MAIN, 'data/cfg/github_pjreddie/yolov2-voc.cfg')\n",
    "    # MODEL_WEIGHT = os.path.join(DIR_MAIN, 'data/weights/pruned/yolov2-voc-weight-prune-30.0.weights')\n",
    "    MODEL_WEIGHT = os.path.join(DIR_MAIN, 'data/dataset/weights/yolov2-voc.weights')\n",
    "    print (' - 2. MODEL_WEIGHT :  ', MODEL_WEIGHT)\n",
    "    \n",
    "if (1):\n",
    "    VAL_PREFIX   = 'pretrained'\n",
    "    BATCH_SIZE   = 1;\n",
    "    print (' - 3. VAL_PREFIX : ', VAL_PREFIX)\n",
    "\n",
    "if (1):\n",
    "    try:\n",
    "        LOGGER = ''\n",
    "        print (' - 4. Logger : ', LOGGER)\n",
    "    except:\n",
    "        LOGGER = TensorBoardColab()\n",
    "        print (' - 4. Logger : ', LOGGER)\n",
    "\n",
    "\n",
    "if (1):\n",
    "    trainObj = YOLOv2Train()\n",
    "    trainObj.train(PASCAL_DIR, PASCAL_TRAIN, PASCAL_VALID, TRAIN_LOGDIR, VAL_LOGDIR, VAL_OUTPUTDIR_PKL, VAL_PREFIX\n",
    "                   , MODEL_CFG, MODEL_WEIGHT\n",
    "                   , BATCH_SIZE\n",
    "                   , LOGGER)"
   ]
  }
 ],
 "metadata": {
  "accelerator": "GPU",
  "anaconda-cloud": {},
  "colab": {
   "collapsed_sections": [],
   "name": "Yolov2.ipynb",
   "provenance": [],
   "version": "0.3.2"
  },
  "kernelspec": {
   "display_name": "Python 3",
   "language": "python",
   "name": "python3"
  },
  "language_info": {
   "codemirror_mode": {
    "name": "ipython",
    "version": 3
   },
   "file_extension": ".py",
   "mimetype": "text/x-python",
   "name": "python",
   "nbconvert_exporter": "python",
   "pygments_lexer": "ipython3",
   "version": "3.5.5"
  },
  "varInspector": {
   "cols": {
    "lenName": 16,
    "lenType": 16,
    "lenVar": 40
   },
   "kernels_config": {
    "python": {
     "delete_cmd_postfix": "",
     "delete_cmd_prefix": "del ",
     "library": "var_list.py",
     "varRefreshCmd": "print(var_dic_list())"
    },
    "r": {
     "delete_cmd_postfix": ") ",
     "delete_cmd_prefix": "rm(",
     "library": "var_list.r",
     "varRefreshCmd": "cat(var_dic_list()) "
    }
   },
   "types_to_exclude": [
    "module",
    "function",
    "builtin_function_or_method",
    "instance",
    "_Feature"
   ],
   "window_display": false
  }
 },
 "nbformat": 4,
 "nbformat_minor": 1
}
